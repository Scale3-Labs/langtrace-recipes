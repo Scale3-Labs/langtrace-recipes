{
 "cells": [
  {
   "cell_type": "code",
   "execution_count": null,
   "id": "539b3faf-ff62-469a-a3b2-33aab8ff7724",
   "metadata": {},
   "outputs": [],
   "source": [
    "import langtrace from \"npm:@langtrase/typescript-sdk@4.0.1\";\n",
    "langtrace.init({api_key: \"b7670857c09eaca1ee23abf9bb63c5467f84f65ba77c0f203a6d400aecde34f9\"})"
   ]
  },
  {
   "cell_type": "code",
   "execution_count": null,
   "id": "3be4f8dc-68fd-44b4-a65f-469d70d0ecf4",
   "metadata": {},
   "outputs": [],
   "source": []
  },
  {
   "cell_type": "code",
   "execution_count": null,
   "id": "a49093e1-615c-4f49-b1cf-ea6059d6486f",
   "metadata": {},
   "outputs": [],
   "source": [
    "import {QdrantClient} from 'npm:@qdrant/js-client-rest';"
   ]
  },
  {
   "cell_type": "code",
   "execution_count": null,
   "id": "6addcd60-6a2c-48a4-bc13-51bed293e582",
   "metadata": {},
   "outputs": [],
   "source": [
    "const client = new QdrantClient({\n",
    "    url: 'https://2cd574a7-6bf3-4b3b-bd99-fc51fa92a98e.us-east4-0.gcp.cloud.qdrant.io:6333',\n",
    "    apiKey: 'eZwlZxIS6mR6isMnUinh7jp_PG7xCEDN37BzZ-d6F8LR4UOlrxWw_g',\n",
    "});\n"
   ]
  },
  {
   "cell_type": "code",
   "execution_count": null,
   "id": "a3fd8425-3a42-4dd0-b081-9d005766fdc5",
   "metadata": {},
   "outputs": [],
   "source": [
    "await client.createCollection(\"your_collecton_name\", {\n",
    "        vectors: {\n",
    "            size: 4,\n",
    "            distance: 'Cosine',\n",
    "        },\n",
    "        optimizers_config: {\n",
    "            default_segment_number: 2,\n",
    "        },\n",
    "        replication_factor: 2,\n",
    "    });\n"
   ]
  },
  {
   "cell_type": "code",
   "execution_count": null,
   "id": "9d98f0c8-7926-4ac4-b156-e35742df6f29",
   "metadata": {},
   "outputs": [],
   "source": [
    " await client.upsert(\"your_collecton_name\", {\n",
    "        wait: true,\n",
    "        points: [\n",
    "            {\n",
    "                id: 1,\n",
    "                vector: [0.05, 0.61, 0.76, 0.74],\n",
    "                payload: {\n",
    "                    city: 'Berlin',\n",
    "                    country: 'Germany',\n",
    "                    count: 1000000,\n",
    "                    square: 12.5,\n",
    "                    coords: {lat: 1.0, lon: 2.0},\n",
    "                },\n",
    "            },\n",
    "            {id: 2, vector: [0.19, 0.81, 0.75, 0.11], payload: {city: ['Berlin', 'London']}},\n",
    "            {id: 3, vector: [0.36, 0.55, 0.47, 0.94], payload: {city: ['Berlin', 'Moscow']}},\n",
    "            {id: 4, vector: [0.18, 0.01, 0.85, 0.8], payload: {city: ['London', 'Moscow']}},\n",
    "            {id: '98a9a4b1-4ef2-46fb-8315-a97d874fe1d7', vector: [0.24, 0.18, 0.22, 0.44], payload: {count: [0]}},\n",
    "            {id: 'f0e09527-b096-42a8-94e9-ea94d342b925', vector: [0.35, 0.08, 0.11, 0.44]},\n",
    "        ],\n",
    "    });"
   ]
  },
  {
   "cell_type": "code",
   "execution_count": null,
   "id": "c8c71e8f-9f2b-45b3-85e2-8371ae45e224",
   "metadata": {},
   "outputs": [],
   "source": [
    "const search_result = await client.search(\"your_collecton_name\",{vector:[0.2, 0.1, 0.9, 0.7], limit:3 })"
   ]
  },
  {
   "cell_type": "code",
   "execution_count": null,
   "id": "ec78f0a8-43cf-4d2c-b119-75b5a53ad37f",
   "metadata": {},
   "outputs": [],
   "source": []
  }
 ],
 "metadata": {
  "kernelspec": {
   "display_name": "Deno",
   "language": "typescript",
   "name": "deno"
  },
  "language_info": {
   "codemirror_mode": "typescript",
   "file_extension": ".ts",
   "mimetype": "text/x.typescript",
   "name": "typescript",
   "nbconvert_exporter": "script",
   "pygments_lexer": "typescript",
   "version": "5.5.2"
  }
 },
 "nbformat": 4,
 "nbformat_minor": 5
}
