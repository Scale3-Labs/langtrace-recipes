{
 "cells": [
  {
   "cell_type": "markdown",
   "metadata": {},
   "source": [
    "# Prompt Attributes Jupyter Notebook"
   ]
  },
  {
   "cell_type": "markdown",
   "metadata": {},
   "source": [
    "This notebook demonstrates how to use the Langtrace features of creating prompts in the prompt registry, accessing those prompts through the Langtrace API, and providing this prompt data in your traces. "
   ]
  },
  {
   "cell_type": "markdown",
   "metadata": {},
   "source": [
    "### Prerequisites:\n",
    "* Sign-up for a free account on [LangTrace](https://langtrace.ai/).\n",
    "* Create a project then generate an API key. Refer to quickstart documentation for help.\n",
    "* Create a prompt registry and a prompt in the recently created project."
   ]
  },
  {
   "cell_type": "markdown",
   "metadata": {},
   "source": [
    "### Step 1: Create Prompt in Langtrace Prompt Registry\n",
    "\n",
    "#### Navigate to the Prompts tab in Langtrace and click 'Create Prompt Registry'\n",
    "![image info](../assets/prompts_tab.png)"
   ]
  }
 ],
 "metadata": {
  "language_info": {
   "name": "python"
  }
 },
 "nbformat": 4,
 "nbformat_minor": 2
}
