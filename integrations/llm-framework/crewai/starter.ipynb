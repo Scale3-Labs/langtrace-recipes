{
 "cells": [
  {
   "cell_type": "markdown",
   "id": "420453d5-2cff-42ba-9464-a67c100a1001",
   "metadata": {},
   "source": [
    "## Setup LangTrace "
   ]
  },
  {
   "cell_type": "markdown",
   "id": "d6b42a2a-ffab-4039-a910-78abf4681b43",
   "metadata": {},
   "source": [
    "* Sign-up for a free account on [LangTrace](https://langtrace.ai/.com \"Title\")."
   ]
  },
  {
   "cell_type": "markdown",
   "id": "bb3c7f02-afdb-490f-9da5-0f1fbe8a3cf4",
   "metadata": {},
   "source": [
    "* Create a Project and generate an API Key"
   ]
  },
  {
   "cell_type": "markdown",
   "id": "d67c6ee3-ea94-49d0-ab74-bcc15160fbed",
   "metadata": {},
   "source": [
    "* <span style=\"color:red\"> Note that for this tutorial you will also sign up and get an API key from [OPENAI](https://OPENAI.COM/ \"OPEN AI\") if you havent done so already. For the sake of this tutorial you will also need a [Serper](https://serper.dev// \"OPEN AI\") api key </span>\n"
   ]
  },
  {
   "cell_type": "markdown",
   "id": "dca72c7e-50cc-440b-86ab-992094f449d3",
   "metadata": {},
   "source": [
    "## Install packages and setup environment"
   ]
  },
  {
   "cell_type": "code",
   "execution_count": null,
   "id": "32c58afc-2908-4366-9fea-91f279e55bb4",
   "metadata": {},
   "outputs": [],
   "source": [
    "pip install langtrace-python-sdk langchain crewai "
   ]
  },
  {
   "cell_type": "code",
   "execution_count": null,
   "id": "d218dbfb-c0f1-4a2a-ad15-fd5f55cddf90",
   "metadata": {},
   "outputs": [],
   "source": [
    "pip install 'crewai[tools]'"
   ]
  },
  {
   "cell_type": "markdown",
   "id": "060c6589-1ae9-470f-8bee-7a160a3c6082",
   "metadata": {},
   "source": [
    "<br>"
   ]
  },
  {
   "cell_type": "markdown",
   "id": "14c74bf8-8642-4a64-8a54-fa1662f21f22",
   "metadata": {},
   "source": [
    "## Imports"
   ]
  },
  {
   "cell_type": "code",
   "execution_count": null,
   "id": "fb851aed-a141-407e-b1e2-827f9fe5fe28",
   "metadata": {},
   "outputs": [],
   "source": [
    "\n",
    "import os\n",
    "os.environ['LANGTRACE_API_KEY'] = \"YOUR_LANGTRACE_API_KEY\"\n",
    "\n",
    "os.environ['OPENAI_API_KEY'] = \"YOUR_OPENAI_API_KEY\"\n",
    "\n",
    "os.environ['SERPER_API_KEY'] = 'YOUR_SERPER_API_KEY'"
   ]
  },
  {
   "cell_type": "code",
   "execution_count": null,
   "id": "95e544e9-9ac6-4d03-a296-96be82b2dae4",
   "metadata": {},
   "outputs": [],
   "source": [
    "from langtrace_python_sdk import langtrace # Must precede any llm module imports\n",
    "langtrace.init(api_key = os.environ['LANGTRACE_API_KEY'])\n",
    "\n",
    "from crewai_tools import (\n",
    "    DirectoryReadTool,\n",
    "    FileReadTool,\n",
    "    SerperDevTool,\n",
    "    WebsiteSearchTool\n",
    ")\n",
    "from crewai import Agent, Task, Crew, Process\n",
    "from crewai_tools import SerperDevTool\n",
    "from langchain.chat_models import ChatOpenAI"
   ]
  },
  {
   "cell_type": "markdown",
   "id": "eb8e8c39-cf49-4d91-855f-5eebef620a0f",
   "metadata": {},
   "source": [
    "## Create tasks, agents and a crew using CREWAI"
   ]
  },
  {
   "cell_type": "code",
   "execution_count": null,
   "id": "04641c32-6e0c-4259-9ab8-1b7858241ce7",
   "metadata": {},
   "outputs": [],
   "source": [
    "llm = ChatOpenAI(model='gpt-4') # Loading GPT-3.5\n",
    "\n",
    "docs_tool = DirectoryReadTool(directory='./blog-posts')\n",
    "file_tool = FileReadTool()\n",
    "search_tool = SerperDevTool()\n",
    "web_rag_tool = WebsiteSearchTool()\n",
    "# Define your agents with roles and goals\n",
    "researcher = Agent(\n",
    "  role='Researcher',\n",
    "  goal='Discover new insights',\n",
    "  backstory=\"You're a world class researcher working on a major data science company\",\n",
    "  tools=[search_tool, web_rag_tool],\n",
    "  verbose=True,\n",
    "    llm=llm\n",
    "\n",
    "  # You can pass an optional llm attribute specifying what model you wanna use.\n",
    "  # llm=ChatOpenAI(model_name=\"gpt-3.5\", temperature=0.7),\n",
    "  \n",
    " \n",
    ")\n",
    "writer = Agent(\n",
    "  role='Writer',\n",
    "  goal='Create engaging content',\n",
    "  backstory=\"You're a famous technical writer, specialized on writing data related content\",\n",
    "  verbose=True,\n",
    "    llm=llm\n",
    " \n",
    "  # You can pass an optional llm attribute specifying what model you wanna use.\n",
    "  # llm=ChatOpenAI(model_name=\"gpt-3.5\", temperature=0.7),\n",
    "  \n",
    ")\n",
    "\n",
    "# Create tasks for your agents\n",
    "task1 = Task(description='Investigate the latest AI trends', agent=researcher, expected_output = ' A bullet summary of the top 5 ai trends')\n",
    "task2 = Task(description='Write a blog post on AI advancements', agent=writer, expected_output = ' A 100 word summary on AI advancements')\n",
    "\n",
    "# Instantiate your crew with a sequential process\n",
    "crew = Crew(\n",
    "  agents=[researcher],\n",
    "  tasks=[task1]\n",
    "  \n",
    ")\n",
    "\n",
    "# Get your crew to work!\n",
    "crew.kickoff()"
   ]
  },
  {
   "cell_type": "markdown",
   "id": "8f2f9e32-c2a3-4322-9175-d1d9aeacce73",
   "metadata": {},
   "source": [
    "## You can now view your traces on the Langtrace dashboard"
   ]
  },
  {
   "cell_type": "markdown",
   "id": "687f6b9b-0189-4c63-8040-c92ad85a1bca",
   "metadata": {},
   "source": [
    "![image info](./assets/image1.png)"
   ]
  },
  {
   "cell_type": "code",
   "execution_count": null,
   "id": "2d0542b6-2fe7-483b-b901-5b052dd27c87",
   "metadata": {},
   "outputs": [],
   "source": []
  }
 ],
 "metadata": {
  "kernelspec": {
   "display_name": "Python 3 (ipykernel)",
   "language": "python",
   "name": "python3"
  },
  "language_info": {
   "codemirror_mode": {
    "name": "ipython",
    "version": 3
   },
   "file_extension": ".py",
   "mimetype": "text/x-python",
   "name": "python",
   "nbconvert_exporter": "python",
   "pygments_lexer": "ipython3",
   "version": "3.11.3"
  }
 },
 "nbformat": 4,
 "nbformat_minor": 5
}
