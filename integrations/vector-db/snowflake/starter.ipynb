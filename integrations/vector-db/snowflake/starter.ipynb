{
 "cells": [
  {
   "cell_type": "markdown",
   "id": "430e5089-3f59-43ae-9938-a32f9f58513b",
   "metadata": {},
   "source": [
    "# Getting started with LangTrace and Snowflake"
   ]
  },
  {
   "cell_type": "markdown",
   "id": "420453d5-2cff-42ba-9464-a67c100a1001",
   "metadata": {},
   "source": [
    "## 1. Setup LangTrace and Snowflake"
   ]
  },
  {
   "cell_type": "markdown",
   "id": "d6b42a2a-ffab-4039-a910-78abf4681b43",
   "metadata": {},
   "source": [
    "* Sign-up for a free account on [LangTrace](https://langtrace.ai/.com \"Title\")."
   ]
  },
  {
   "cell_type": "markdown",
   "id": "bb3c7f02-afdb-490f-9da5-0f1fbe8a3cf4",
   "metadata": {},
   "source": [
    "* Create a Project and generate an API Key"
   ]
  },
  {
   "cell_type": "markdown",
   "id": "d67c6ee3-ea94-49d0-ab74-bcc15160fbed",
   "metadata": {},
   "source": [
    "* <span style=\"color:red\"> Note you will also sign up and create an account with [Snowflake](https://www.snowflake.com/ \"Snowflake\") if you havent done so already </span>\n"
   ]
  },
  {
   "cell_type": "markdown",
   "id": "556816c2-a54a-4d6c-8cd4-ab18c37fb34f",
   "metadata": {},
   "source": [
    "<br/>"
   ]
  },
  {
   "cell_type": "markdown",
   "id": "dca72c7e-50cc-440b-86ab-992094f449d3",
   "metadata": {},
   "source": [
    "## 2. Install packages and setup environment"
   ]
  },
  {
   "cell_type": "code",
   "execution_count": null,
   "id": "32c58afc-2908-4366-9fea-91f279e55bb4",
   "metadata": {},
   "outputs": [],
   "source": [
    "pip install langtrace-python-sdk snowflake-connector-python"
   ]
  },
  {
   "cell_type": "markdown",
   "id": "65a3507c-d2c7-40da-a7b3-4462f64a91cd",
   "metadata": {},
   "source": [
    "<br/>"
   ]
  },
  {
   "cell_type": "markdown",
   "id": "14c74bf8-8642-4a64-8a54-fa1662f21f22",
   "metadata": {},
   "source": [
    "## 3. Imports"
   ]
  },
  {
   "cell_type": "code",
   "execution_count": null,
   "id": "fb851aed-a141-407e-b1e2-827f9fe5fe28",
   "metadata": {},
   "outputs": [],
   "source": [
    "\n",
    "import os\n",
    "import snowflake.connector\n",
    "\n",
    "os.environ['LANGTRACE_API_KEY'] = \"YOUR_LANGTRACE_API_KEY\"\n",
    "os.environ['PINECONE_API_KEY'] = \"YOUR_PINECONE_API_KEY\""
   ]
  },
  {
   "cell_type": "code",
   "execution_count": null,
   "id": "e2f50a81-863c-4799-a1d3-e336412fc7f3",
   "metadata": {},
   "outputs": [],
   "source": [
    "from langtrace_python_sdk import langtrace # Must precede any llm module imports\n",
    "langtrace.init(api_key = os.environ['LANGTRACE_API_KEY'])\n"
   ]
  },
  {
   "cell_type": "markdown",
   "id": "88c87086-fc8e-497c-be70-12963745525f",
   "metadata": {},
   "source": [
    "<br/>"
   ]
  },
  {
   "cell_type": "markdown",
   "id": "dd83ef0e-ed63-4152-9dec-02aa9d7e0be8",
   "metadata": {},
   "source": [
    "## 4. Connect to snowflake Database"
   ]
  },
  {
   "cell_type": "code",
   "execution_count": null,
   "id": "6e17c0bb-08db-4a87-9f53-db931d588c91",
   "metadata": {},
   "outputs": [],
   "source": [
    "## Replace these with your own credentials.\n",
    "account = 'account_name'\n",
    "user = 'user_name'\n",
    "password = 'password_name'\n",
    "database = 'db_name'\n",
    "schema = 'schema_name'\n"
   ]
  },
  {
   "cell_type": "code",
   "execution_count": null,
   "id": "08b19760-6c7d-4df1-9fab-96ccc5c8c1a3",
   "metadata": {},
   "outputs": [],
   "source": [
    "conn = snowflake.connector.connect(\n",
    "    user=user,\n",
    "    password=password,\n",
    "    account=account,\n",
    "    database=database,\n",
    "    schema=schema,\n",
    ")"
   ]
  },
  {
   "cell_type": "code",
   "execution_count": null,
   "id": "e3d0950f-c7f9-4a61-9dcc-a3a32b2e23f6",
   "metadata": {},
   "outputs": [],
   "source": [
    "cur = conn.cursor()"
   ]
  },
  {
   "cell_type": "markdown",
   "id": "9fe6642c-c1a0-48f7-bc02-ed3f8074b890",
   "metadata": {},
   "source": [
    "<br/>"
   ]
  },
  {
   "cell_type": "markdown",
   "id": "eb8e8c39-cf49-4d91-855f-5eebef620a0f",
   "metadata": {},
   "source": [
    "## 5. Create some vectors and find the closest distance between them"
   ]
  },
  {
   "cell_type": "code",
   "execution_count": null,
   "id": "0663aa7f-8d93-479d-8d4c-a4939a769f3b",
   "metadata": {},
   "outputs": [],
   "source": [
    "cur.execute(\"CREATE OR REPLACE TABLE vectors (a VECTOR(FLOAT, 3), b VECTOR(FLOAT, 3))\")\n",
    "values = [([1.1, 2.2, 3], [1, 1, 1]), ([1, 2.2, 3], [4, 6, 8])]\n",
    "for row in values:\n",
    "        cur.execute(f\"\"\"\n",
    "            INSERT INTO vectors(a, b)\n",
    "                SELECT {row[0]}::VECTOR(FLOAT,3), {row[1]}::VECTOR(FLOAT,3)\n",
    "        \"\"\")\n",
    "\n",
    "# Compute the pairwise inner product between columns a and b\n",
    "cur.execute(\"SELECT VECTOR_INNER_PRODUCT(a, b) FROM vectors\")"
   ]
  },
  {
   "cell_type": "code",
   "execution_count": null,
   "id": "20b8cb95-382e-4188-8b29-b1fc7c798b75",
   "metadata": {},
   "outputs": [],
   "source": [
    "# Find the closest vector to [1,2,3]\n",
    "cur.execute(f\"\"\"\n",
    "    SELECT a, VECTOR_COSINE_SIMILARITY(a, {[1,2,3]}::VECTOR(FLOAT, 3))\n",
    "        AS similarity\n",
    "        FROM vectors\n",
    "        ORDER BY similarity DESC\n",
    "        LIMIT 1;\n",
    "\"\"\")\n",
    "print(cur.fetchall())"
   ]
  },
  {
   "cell_type": "markdown",
   "id": "2e749006-fceb-4d17-bb15-6eb30abda188",
   "metadata": {},
   "source": [
    "<br/>"
   ]
  },
  {
   "cell_type": "markdown",
   "id": "8f2f9e32-c2a3-4322-9175-d1d9aeacce73",
   "metadata": {},
   "source": [
    "## You can now view your traces on the Langtrace dashboard"
   ]
  },
  {
   "cell_type": "markdown",
   "id": "687f6b9b-0189-4c63-8040-c92ad85a1bca",
   "metadata": {},
   "source": [
    "![image info](./assets/image1.png)"
   ]
  },
  {
   "cell_type": "code",
   "execution_count": null,
   "id": "37ff5923-0346-4357-ad94-08a60470e492",
   "metadata": {},
   "outputs": [],
   "source": []
  }
 ],
 "metadata": {
  "kernelspec": {
   "display_name": "Python 3 (ipykernel)",
   "language": "python",
   "name": "python3"
  },
  "language_info": {
   "codemirror_mode": {
    "name": "ipython",
    "version": 3
   },
   "file_extension": ".py",
   "mimetype": "text/x-python",
   "name": "python",
   "nbconvert_exporter": "python",
   "pygments_lexer": "ipython3",
   "version": "3.11.3"
  }
 },
 "nbformat": 4,
 "nbformat_minor": 5
}
