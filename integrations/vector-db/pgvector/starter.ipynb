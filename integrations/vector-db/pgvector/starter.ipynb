{
 "cells": [
  {
   "cell_type": "markdown",
   "id": "420453d5-2cff-42ba-9464-a67c100a1001",
   "metadata": {},
   "source": [
    "## Setup LangTrace and PgVector"
   ]
  },
  {
   "cell_type": "markdown",
   "id": "d6b42a2a-ffab-4039-a910-78abf4681b43",
   "metadata": {},
   "source": [
    "* Sign-up for a free account on [LangTrace](https://langtrace.ai/.com \"Title\")."
   ]
  },
  {
   "cell_type": "markdown",
   "id": "bb3c7f02-afdb-490f-9da5-0f1fbe8a3cf4",
   "metadata": {},
   "source": [
    "* Create a Project and generate an API Key"
   ]
  },
  {
   "cell_type": "markdown",
   "id": "dca72c7e-50cc-440b-86ab-992094f449d3",
   "metadata": {},
   "source": [
    "## Install packages and setup environment"
   ]
  },
  {
   "cell_type": "code",
   "execution_count": null,
   "id": "32c58afc-2908-4366-9fea-91f279e55bb4",
   "metadata": {},
   "outputs": [],
   "source": [
    "pip install langtrace-python-sdk psycopg2==2.9.6"
   ]
  },
  {
   "cell_type": "markdown",
   "id": "14c74bf8-8642-4a64-8a54-fa1662f21f22",
   "metadata": {},
   "source": [
    "## Imports"
   ]
  },
  {
   "cell_type": "code",
   "execution_count": null,
   "id": "fb851aed-a141-407e-b1e2-827f9fe5fe28",
   "metadata": {},
   "outputs": [],
   "source": [
    "from openai import OpenAI\n",
    "from pgvector.psycopg2 import register_vector\n",
    "import psycopg2\n",
    "import os\n",
    "os.environ['LANGTRACE_API_KEY'] = \"YOUR_LANGTRACE_API_KEY\"\n"
   ]
  },
  {
   "cell_type": "code",
   "execution_count": null,
   "id": "e2f50a81-863c-4799-a1d3-e336412fc7f3",
   "metadata": {},
   "outputs": [],
   "source": [
    "from langtrace_python_sdk import langtrace # Must precede any llm module imports\n",
    "langtrace.init(api_key = os.environ['LANGTRACE_API_KEY'])\n",
    "\n",
    "from pgvector.django import VectorExtension\n",
    "from pgvector.django import VectorField\n",
    "\n"
   ]
  },
  {
   "cell_type": "code",
   "execution_count": null,
   "id": "a8b7bd33-14cc-4b5c-a8f6-818841da99bd",
   "metadata": {},
   "outputs": [],
   "source": [
    "conn = psycopg2.connect(\"dbname=pgvector_example user=postgres password=postgres\" )\n",
    "cursor = conn.cursor()\n",
    "\n",
    "cursor.execute('CREATE EXTENSION vector')\n",
    "register_vector(conn)"
   ]
  },
  {
   "cell_type": "markdown",
   "id": "060c6589-1ae9-470f-8bee-7a160a3c6082",
   "metadata": {},
   "source": [
    "<br>"
   ]
  },
  {
   "cell_type": "markdown",
   "id": "7b622a70-d0dc-486b-9230-179f93b1e436",
   "metadata": {},
   "source": [
    "<br>"
   ]
  },
  {
   "cell_type": "code",
   "execution_count": null,
   "id": "2d0542b6-2fe7-483b-b901-5b052dd27c87",
   "metadata": {},
   "outputs": [],
   "source": []
  }
 ],
 "metadata": {
  "kernelspec": {
   "display_name": "Python 3 (ipykernel)",
   "language": "python",
   "name": "python3"
  },
  "language_info": {
   "codemirror_mode": {
    "name": "ipython",
    "version": 3
   },
   "file_extension": ".py",
   "mimetype": "text/x-python",
   "name": "python",
   "nbconvert_exporter": "python",
   "pygments_lexer": "ipython3",
   "version": "3.11.3"
  }
 },
 "nbformat": 4,
 "nbformat_minor": 5
}
