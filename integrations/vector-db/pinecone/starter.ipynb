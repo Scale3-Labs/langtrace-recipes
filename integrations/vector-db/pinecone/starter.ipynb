{
 "cells": [
  {
   "cell_type": "markdown",
   "id": "4bd7d47c-6412-4b24-8a8d-e25d539685c7",
   "metadata": {},
   "source": [
    "# Getting Started with LangTrace and Pinecone"
   ]
  },
  {
   "cell_type": "markdown",
   "id": "420453d5-2cff-42ba-9464-a67c100a1001",
   "metadata": {},
   "source": [
    "## 1. Setup LangTrace and PineCone"
   ]
  },
  {
   "cell_type": "markdown",
   "id": "d6b42a2a-ffab-4039-a910-78abf4681b43",
   "metadata": {},
   "source": [
    "* Sign-up for a free account on [LangTrace](https://langtrace.ai/.com \"Title\")."
   ]
  },
  {
   "cell_type": "markdown",
   "id": "bb3c7f02-afdb-490f-9da5-0f1fbe8a3cf4",
   "metadata": {},
   "source": [
    "* Create a Project and generate an API Key"
   ]
  },
  {
   "cell_type": "markdown",
   "id": "d67c6ee3-ea94-49d0-ab74-bcc15160fbed",
   "metadata": {},
   "source": [
    "* <span style=\"color:red\"> Note you will also sign up and get an API key from [Pinecone](https://www.pinecone.io/ \"PineCone\") if you havent done so already </span>\n"
   ]
  },
  {
   "cell_type": "markdown",
   "id": "dca72c7e-50cc-440b-86ab-992094f449d3",
   "metadata": {},
   "source": [
    "## 2. Install packages and setup environment"
   ]
  },
  {
   "cell_type": "code",
   "execution_count": null,
   "id": "32c58afc-2908-4366-9fea-91f279e55bb4",
   "metadata": {},
   "outputs": [],
   "source": [
    "pip install -U langtrace-python-sdk pinecone-client"
   ]
  },
  {
   "cell_type": "code",
   "execution_count": null,
   "id": "fb851aed-a141-407e-b1e2-827f9fe5fe28",
   "metadata": {},
   "outputs": [],
   "source": [
    "\n",
    "import os\n",
    "os.environ['LANGTRACE_API_KEY'] = \"dd684c8cf686b6ddcad42a69d856cee3fd783a1601b6e0d6b1e0d9acce403828\"\n",
    "os.environ['PINECONE_API_KEY'] = \"973e16c5-8a31-4b70-b22d-25b882b8a721\""
   ]
  },
  {
   "cell_type": "markdown",
   "id": "060c6589-1ae9-470f-8bee-7a160a3c6082",
   "metadata": {},
   "source": [
    "<br>"
   ]
  },
  {
   "cell_type": "markdown",
   "id": "14c74bf8-8642-4a64-8a54-fa1662f21f22",
   "metadata": {},
   "source": [
    "## 3. Imports"
   ]
  },
  {
   "cell_type": "code",
   "execution_count": null,
   "id": "e2f50a81-863c-4799-a1d3-e336412fc7f3",
   "metadata": {},
   "outputs": [],
   "source": [
    "from langtrace_python_sdk import langtrace # Must precede any llm module imports\n",
    "langtrace.init(api_key = os.environ['LANGTRACE_API_KEY'])\n",
    "\n",
    "from pinecone import Pinecone, ServerlessSpec\n",
    "pc = Pinecone(api_key=os.environ['PINECONE_API_KEY'])"
   ]
  },
  {
   "cell_type": "markdown",
   "id": "7b622a70-d0dc-486b-9230-179f93b1e436",
   "metadata": {},
   "source": [
    "<br>"
   ]
  },
  {
   "cell_type": "markdown",
   "id": "eb8e8c39-cf49-4d91-855f-5eebef620a0f",
   "metadata": {},
   "source": [
    "## 4. Create an Index and upsert some data in Pinecone"
   ]
  },
  {
   "cell_type": "code",
   "execution_count": null,
   "id": "0663aa7f-8d93-479d-8d4c-a4939a769f3b",
   "metadata": {},
   "outputs": [],
   "source": [
    "pc.create_index(\n",
    "    name=\"index\",\n",
    "    dimension=8, # Replace with your model dimensions\n",
    "    metric=\"euclidean\", # Replace with your model metric\n",
    "    spec=ServerlessSpec(\n",
    "        cloud=\"aws\",\n",
    "        region=\"us-east-1\"\n",
    "    ) \n",
    ")"
   ]
  },
  {
   "cell_type": "code",
   "execution_count": null,
   "id": "55c03b22-fdbd-4316-a2b2-8c2a837ef3d5",
   "metadata": {},
   "outputs": [],
   "source": [
    "index = pc.Index(\"index\")"
   ]
  },
  {
   "cell_type": "code",
   "execution_count": null,
   "id": "20b8cb95-382e-4188-8b29-b1fc7c798b75",
   "metadata": {},
   "outputs": [],
   "source": [
    "index.upsert(\n",
    "  vectors=[\n",
    "    {\"id\": \"A\", \"values\": [0.1, 0.1, 0.1, 0.1, 0.1, 0.1, 0.1, 0.1]},\n",
    "    {\"id\": \"B\", \"values\": [0.2, 0.2, 0.2, 0.2, 0.2, 0.2, 0.2, 0.2]},\n",
    "    {\"id\": \"C\", \"values\": [0.3, 0.3, 0.3, 0.3, 0.3, 0.3, 0.3, 0.3]},\n",
    "    {\"id\": \"D\", \"values\": [0.4, 0.4, 0.4, 0.4, 0.4, 0.4, 0.4, 0.4]}\n",
    "  ]\n",
    ")"
   ]
  },
  {
   "cell_type": "markdown",
   "id": "8f2f9e32-c2a3-4322-9175-d1d9aeacce73",
   "metadata": {},
   "source": [
    "## You can now view your traces on the Langtrace dashboard"
   ]
  },
  {
   "cell_type": "markdown",
   "id": "687f6b9b-0189-4c63-8040-c92ad85a1bca",
   "metadata": {},
   "source": [
    "![image info](./assets/image1.png)"
   ]
  },
  {
   "cell_type": "code",
   "execution_count": null,
   "id": "2d0542b6-2fe7-483b-b901-5b052dd27c87",
   "metadata": {},
   "outputs": [],
   "source": []
  }
 ],
 "metadata": {
  "kernelspec": {
   "display_name": "Python 3 (ipykernel)",
   "language": "python",
   "name": "python3"
  },
  "language_info": {
   "codemirror_mode": {
    "name": "ipython",
    "version": 3
   },
   "file_extension": ".py",
   "mimetype": "text/x-python",
   "name": "python",
   "nbconvert_exporter": "python",
   "pygments_lexer": "ipython3",
   "version": "3.11.3"
  }
 },
 "nbformat": 4,
 "nbformat_minor": 5
}
