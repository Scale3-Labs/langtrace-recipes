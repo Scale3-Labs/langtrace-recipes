{
 "cells": [
  {
   "cell_type": "markdown",
   "id": "837f871a-4a51-4d4b-baa3-4ca0f845ff2f",
   "metadata": {},
   "source": [
    "# Getting started with LangTrace and Cohere"
   ]
  },
  {
   "cell_type": "markdown",
   "id": "420453d5-2cff-42ba-9464-a67c100a1001",
   "metadata": {},
   "source": [
    "## 1. Setup LangTrace and Cohere"
   ]
  },
  {
   "cell_type": "markdown",
   "id": "d6b42a2a-ffab-4039-a910-78abf4681b43",
   "metadata": {},
   "source": [
    "* Sign-up for a free account on [LangTrace](https://langtrace.ai/.com \"Title\")."
   ]
  },
  {
   "cell_type": "markdown",
   "id": "bb3c7f02-afdb-490f-9da5-0f1fbe8a3cf4",
   "metadata": {},
   "source": [
    "* Create a Project and generate an API Key"
   ]
  },
  {
   "cell_type": "markdown",
   "id": "d67c6ee3-ea94-49d0-ab74-bcc15160fbed",
   "metadata": {},
   "source": [
    "* <span style=\"color:red\"> Note you will also sign up and get an API key from [COHERE](https://cohere.COM/ \"OPEN AI\") if you havent done so already </span>\n"
   ]
  },
  {
   "cell_type": "markdown",
   "id": "dca72c7e-50cc-440b-86ab-992094f449d3",
   "metadata": {},
   "source": [
    "## 2. Install packages and setup environment"
   ]
  },
  {
   "cell_type": "code",
   "execution_count": null,
   "id": "32c58afc-2908-4366-9fea-91f279e55bb4",
   "metadata": {},
   "outputs": [],
   "source": [
    "pip install -U langtrace-python-sdk cohere"
   ]
  },
  {
   "cell_type": "code",
   "execution_count": null,
   "id": "fb851aed-a141-407e-b1e2-827f9fe5fe28",
   "metadata": {},
   "outputs": [],
   "source": [
    "\n",
    "import os\n",
    "os.environ['LANGTRACE_API_KEY'] = \"YOUR_LANGTRACE_API_KEY\"\n",
    "\n",
    "os.environ['COHERE_API_KEY'] = \"YOUR_COHERE_API_KEY\""
   ]
  },
  {
   "cell_type": "markdown",
   "id": "060c6589-1ae9-470f-8bee-7a160a3c6082",
   "metadata": {},
   "source": [
    "<br>"
   ]
  },
  {
   "cell_type": "markdown",
   "id": "14c74bf8-8642-4a64-8a54-fa1662f21f22",
   "metadata": {},
   "source": [
    "## 3. Imports"
   ]
  },
  {
   "cell_type": "code",
   "execution_count": null,
   "id": "e2f50a81-863c-4799-a1d3-e336412fc7f3",
   "metadata": {},
   "outputs": [],
   "source": [
    "from langtrace_python_sdk import langtrace # Must precede any llm module imports\n",
    "langtrace.init(api_key = os.environ['LANGTRACE_API_KEY'])\n",
    "import cohere\n",
    "\n",
    "co = cohere.Client(\n",
    "    api_key=os.environ['COHERE_API_KEY'],\n",
    ")\n",
    "\n"
   ]
  },
  {
   "cell_type": "markdown",
   "id": "7b622a70-d0dc-486b-9230-179f93b1e436",
   "metadata": {},
   "source": [
    "<br>"
   ]
  },
  {
   "cell_type": "markdown",
   "id": "ee456bf7-b46a-46fd-8af8-2521c9ea092f",
   "metadata": {},
   "source": [
    "## 4. Lets query Cohere's command model"
   ]
  },
  {
   "cell_type": "code",
   "execution_count": null,
   "id": "0663aa7f-8d93-479d-8d4c-a4939a769f3b",
   "metadata": {},
   "outputs": [],
   "source": [
    "\n",
    "chat = co.chat(\n",
    "    message=\"What is Langchain?\",\n",
    "    model=\"command\"\n",
    ")\n",
    "print(chat.text)"
   ]
  },
  {
   "cell_type": "markdown",
   "id": "c9f292c9-c3d6-446a-b87d-49633c188c03",
   "metadata": {},
   "source": [
    "<br>"
   ]
  },
  {
   "cell_type": "markdown",
   "id": "8f2f9e32-c2a3-4322-9175-d1d9aeacce73",
   "metadata": {},
   "source": [
    " ## You can now view your traces on the Langtrace dashboard"
   ]
  },
  {
   "cell_type": "markdown",
   "id": "687f6b9b-0189-4c63-8040-c92ad85a1bca",
   "metadata": {},
   "source": [
    "![image info](./assets/image1.png)"
   ]
  },
  {
   "cell_type": "code",
   "execution_count": null,
   "id": "2d0542b6-2fe7-483b-b901-5b052dd27c87",
   "metadata": {},
   "outputs": [],
   "source": []
  }
 ],
 "metadata": {
  "kernelspec": {
   "display_name": "Python 3 (ipykernel)",
   "language": "python",
   "name": "python3"
  },
  "language_info": {
   "codemirror_mode": {
    "name": "ipython",
    "version": 3
   },
   "file_extension": ".py",
   "mimetype": "text/x-python",
   "name": "python",
   "nbconvert_exporter": "python",
   "pygments_lexer": "ipython3",
   "version": "3.11.3"
  }
 },
 "nbformat": 4,
 "nbformat_minor": 5
}
