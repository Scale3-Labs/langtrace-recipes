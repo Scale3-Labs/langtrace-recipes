{
 "cells": [
  {
   "cell_type": "markdown",
   "id": "751526f6-5e87-459b-80fb-66d3725e2da1",
   "metadata": {},
   "source": [
    "# Getting started with LangTrace AND Perplexity"
   ]
  },
  {
   "cell_type": "markdown",
   "id": "420453d5-2cff-42ba-9464-a67c100a1001",
   "metadata": {},
   "source": [
    "## 1. Setup LangTrace and Perplexity"
   ]
  },
  {
   "cell_type": "markdown",
   "id": "d6b42a2a-ffab-4039-a910-78abf4681b43",
   "metadata": {},
   "source": [
    "* Sign-up for a free account on [LangTrace](https://langtrace.ai/.com \"Title\")."
   ]
  },
  {
   "cell_type": "markdown",
   "id": "bb3c7f02-afdb-490f-9da5-0f1fbe8a3cf4",
   "metadata": {},
   "source": [
    "* Create a Project and generate an API Key"
   ]
  },
  {
   "cell_type": "markdown",
   "id": "dca72c7e-50cc-440b-86ab-992094f449d3",
   "metadata": {},
   "source": [
    "## 2. Install packages and setup environment"
   ]
  },
  {
   "cell_type": "code",
   "execution_count": null,
   "id": "32c58afc-2908-4366-9fea-91f279e55bb4",
   "metadata": {},
   "outputs": [],
   "source": [
    "pip install -U langtrace-python-sdk openai"
   ]
  },
  {
   "cell_type": "code",
   "execution_count": null,
   "id": "fb851aed-a141-407e-b1e2-827f9fe5fe28",
   "metadata": {},
   "outputs": [],
   "source": [
    "\n",
    "import os\n",
    "os.environ['LANGTRACE_API_KEY'] = \"dd684c8cf686b6ddcad42a69d856cee3fd783a1601b6e0d6b1e0d9acce403828\"\n",
    "os.environ['PPLX_API_KEY'] = \"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\""
   ]
  },
  {
   "cell_type": "markdown",
   "id": "060c6589-1ae9-470f-8bee-7a160a3c6082",
   "metadata": {},
   "source": [
    "<br>"
   ]
  },
  {
   "cell_type": "markdown",
   "id": "14c74bf8-8642-4a64-8a54-fa1662f21f22",
   "metadata": {},
   "source": [
    "## 3. Imports"
   ]
  },
  {
   "cell_type": "code",
   "execution_count": null,
   "id": "a6ecb15b-f5de-4fd2-bf00-b16a6e4df5e0",
   "metadata": {},
   "outputs": [],
   "source": [
    "from langtrace_python_sdk import langtrace # Must precede any llm module imports\n",
    "langtrace.init(api_key = os.environ['LANGTRACE_API_KEY'])\n",
    "\n",
    "from openai import OpenAI\n",
    "## NOTE that perplexity is open ai client compatible which is why we will use the OPEN AI client"
   ]
  },
  {
   "cell_type": "code",
   "execution_count": null,
   "id": "f24b93ef-352a-4ffc-87b5-1d02462574b8",
   "metadata": {},
   "outputs": [],
   "source": []
  },
  {
   "cell_type": "markdown",
   "id": "eb8e8c39-cf49-4d91-855f-5eebef620a0f",
   "metadata": {},
   "source": [
    "## 4. Generate a simple output with the Mistral 7b MODEL"
   ]
  },
  {
   "cell_type": "code",
   "execution_count": null,
   "id": "01a9512a-e7b9-4cc0-bb0b-fbc3bfa3d1cb",
   "metadata": {},
   "outputs": [],
   "source": [
    "messages = [\n",
    "    {\n",
    "        \"role\": \"system\",\n",
    "        \"content\": (\n",
    "            \"You are an artificial intelligence assistant and you need to \"\n",
    "            \"engage in a helpful, detailed, polite conversation with a user.\"\n",
    "        ),\n",
    "    },\n",
    "    {\n",
    "        \"role\": \"user\",\n",
    "        \"content\": (\n",
    "            \"Count to 100, with a comma between each number and no newlines. \"\n",
    "            \"E.g., 1, 2, 3, ...\"\n",
    "        ),\n",
    "    },\n",
    "]\n",
    "\n",
    "client = OpenAI(api_key=os.environ['PPLX_API_KEY'], base_url=\"https://api.perplexity.ai\")"
   ]
  },
  {
   "cell_type": "code",
   "execution_count": null,
   "id": "78197c82-1cde-4fde-bbb7-0d106bc7b246",
   "metadata": {},
   "outputs": [],
   "source": [
    "response = client.chat.completions.create(\n",
    "    model=\"mistral-7b-instruct\",\n",
    "    messages=messages,\n",
    ")"
   ]
  },
  {
   "cell_type": "markdown",
   "id": "c9f292c9-c3d6-446a-b87d-49633c188c03",
   "metadata": {},
   "source": [
    "<br>"
   ]
  },
  {
   "cell_type": "markdown",
   "id": "8f2f9e32-c2a3-4322-9175-d1d9aeacce73",
   "metadata": {},
   "source": [
    "## You can now view your traces on the Langtrace dashboard"
   ]
  },
  {
   "cell_type": "markdown",
   "id": "687f6b9b-0189-4c63-8040-c92ad85a1bca",
   "metadata": {},
   "source": [
    "![image info](./assets/image1.png)"
   ]
  },
  {
   "cell_type": "code",
   "execution_count": null,
   "id": "2d0542b6-2fe7-483b-b901-5b052dd27c87",
   "metadata": {},
   "outputs": [],
   "source": []
  }
 ],
 "metadata": {
  "kernelspec": {
   "display_name": "Python 3 (ipykernel)",
   "language": "python",
   "name": "python3"
  },
  "language_info": {
   "codemirror_mode": {
    "name": "ipython",
    "version": 3
   },
   "file_extension": ".py",
   "mimetype": "text/x-python",
   "name": "python",
   "nbconvert_exporter": "python",
   "pygments_lexer": "ipython3",
   "version": "3.11.3"
  }
 },
 "nbformat": 4,
 "nbformat_minor": 5
}
