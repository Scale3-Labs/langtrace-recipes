{
 "cells": [
  {
   "cell_type": "markdown",
   "id": "53eece57-23e6-48e6-9ed9-1899034f0ca8",
   "metadata": {},
   "source": [
    "# Getting Started with LangTrace and ChromaDB"
   ]
  },
  {
   "cell_type": "markdown",
   "id": "b9285df9-7da2-43bb-83b2-e6de061615c9",
   "metadata": {},
   "source": [
    "## 1. Setup LangTrace"
   ]
  },
  {
   "cell_type": "markdown",
   "id": "44b2f9a4-f2b0-472e-b894-fad1edd437b7",
   "metadata": {},
   "source": [
    "* Sign-up for a free account on [LangTrace](https://langtrace.ai/.com \"Title\")."
   ]
  },
  {
   "cell_type": "markdown",
   "id": "be305957-dc2a-4225-931f-05925900aac0",
   "metadata": {},
   "source": [
    "* Create a Project and generate an API Key"
   ]
  },
  {
   "cell_type": "markdown",
   "id": "dca72c7e-50cc-440b-86ab-992094f449d3",
   "metadata": {},
   "source": [
    "## 2. Install packages and setup environment"
   ]
  },
  {
   "cell_type": "code",
   "execution_count": null,
   "id": "32c58afc-2908-4366-9fea-91f279e55bb4",
   "metadata": {},
   "outputs": [],
   "source": [
    "pip install -U langtrace-python-sdk chromadb"
   ]
  },
  {
   "cell_type": "code",
   "execution_count": null,
   "id": "fb851aed-a141-407e-b1e2-827f9fe5fe28",
   "metadata": {},
   "outputs": [],
   "source": [
    "\n",
    "import os\n",
    "os.environ['LANGTRACE_API_KEY'] = \"YOUR_LANGTRACE_API_KEY\""
   ]
  },
  {
   "cell_type": "markdown",
   "id": "7392e56f-dce5-42c7-aea7-65f0fe8d50ca",
   "metadata": {},
   "source": [
    "<br>"
   ]
  },
  {
   "cell_type": "markdown",
   "id": "14c74bf8-8642-4a64-8a54-fa1662f21f22",
   "metadata": {},
   "source": [
    "## 3. Imports"
   ]
  },
  {
   "cell_type": "code",
   "execution_count": null,
   "id": "e2f50a81-863c-4799-a1d3-e336412fc7f3",
   "metadata": {},
   "outputs": [],
   "source": [
    "from langtrace_python_sdk import langtrace # Must precede any llm module imports\n",
    "langtrace.init(api_key = os.environ['LANGTRACE_API_KEY'])\n",
    "\n",
    "import chromadb\n",
    "chroma_client = chromadb.Client()"
   ]
  },
  {
   "cell_type": "markdown",
   "id": "d2aad238-2a32-4e70-98a0-a28d52027b47",
   "metadata": {},
   "source": [
    "## 4. Create a collection, add data and make a query using ChromaDB"
   ]
  },
  {
   "cell_type": "code",
   "execution_count": null,
   "id": "0663aa7f-8d93-479d-8d4c-a4939a769f3b",
   "metadata": {},
   "outputs": [],
   "source": [
    "collection = chroma_client.create_collection(name=\"m_collection\")"
   ]
  },
  {
   "cell_type": "code",
   "execution_count": null,
   "id": "55c03b22-fdbd-4316-a2b2-8c2a837ef3d5",
   "metadata": {},
   "outputs": [],
   "source": [
    "collection.add(\n",
    "    documents=[\"This is document1\", \"This is document2\"], # we embed for you, or bring your own\n",
    "    metadatas=[{\"source\": \"notion\"}, {\"source\": \"google-docs\"}], # filter on arbitrary metadata!\n",
    "    ids=[\"doc1\", \"doc2\"], # must be unique for each doc \n",
    ")"
   ]
  },
  {
   "cell_type": "code",
   "execution_count": null,
   "id": "20b8cb95-382e-4188-8b29-b1fc7c798b75",
   "metadata": {},
   "outputs": [],
   "source": [
    "results = collection.query(\n",
    "    query_texts=[\"This is a query documenth hawaii\"],\n",
    "    n_results=2,\n",
    "    # where={\"metadata_field\": \"is_equal_to_this\"}, # optional filter\n",
    "    # where_document={\"$contains\":\"search_string\"}  # optional filter\n",
    ") "
   ]
  },
  {
   "cell_type": "code",
   "execution_count": null,
   "id": "4f6fb6e8-4afd-4080-a5dd-568b1635827e",
   "metadata": {},
   "outputs": [],
   "source": [
    "print(results)"
   ]
  },
  {
   "cell_type": "markdown",
   "id": "3eaadd53-2b83-4a5a-9b64-c512b34d42a7",
   "metadata": {},
   "source": [
    "## You can now view your traces on the LangTrace dashboard"
   ]
  },
  {
   "cell_type": "markdown",
   "id": "46eafcfe-63a5-43cf-ac5e-370310f8656f",
   "metadata": {},
   "source": [
    "![image info](./assets/image1.png)"
   ]
  },
  {
   "cell_type": "code",
   "execution_count": null,
   "id": "62e3dd9b-e322-4e59-9eea-264514353e01",
   "metadata": {},
   "outputs": [],
   "source": []
  }
 ],
 "metadata": {
  "kernelspec": {
   "display_name": "Python 3 (ipykernel)",
   "language": "python",
   "name": "python3"
  },
  "language_info": {
   "codemirror_mode": {
    "name": "ipython",
    "version": 3
   },
   "file_extension": ".py",
   "mimetype": "text/x-python",
   "name": "python",
   "nbconvert_exporter": "python",
   "pygments_lexer": "ipython3",
   "version": "3.11.3"
  }
 },
 "nbformat": 4,
 "nbformat_minor": 5
}
